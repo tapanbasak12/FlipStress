{
  "cells": [
    {
      "cell_type": "markdown",
      "metadata": {
        "id": "cIWg7cV8ijzh"
      },
      "source": [
        "#All imports\n"
      ]
    },
    {
      "cell_type": "code",
      "execution_count": 1,
      "metadata": {
        "id": "0Ve2_W6JJwXD"
      },
      "outputs": [],
      "source": [
        "import numpy as np\n",
        "import json\n",
        "import os\n",
        "import matplotlib.pyplot as plt\n",
        "from sklearn.linear_model import LogisticRegression\n",
        "from sklearn.model_selection import cross_val_score, StratifiedShuffleSplit\n",
        "from sklearn.metrics import confusion_matrix, classification_report\n",
        "from sklearn.decomposition import PCA\n",
        "import warnings\n",
        "warnings.filterwarnings(\"ignore\")\n",
        "\n",
        "cwd = os.getcwd()"
      ]
    },
    {
      "cell_type": "markdown",
      "metadata": {
        "id": "FvuQTWuFQpS3"
      },
      "source": [
        "# Training and testing for \"known-noise\""
      ]
    },
    {
      "cell_type": "code",
      "execution_count": 13,
      "metadata": {
        "id": "Wlr_XGiHVclJ"
      },
      "outputs": [],
      "source": [
        "values = {}\n",
        "def classify_ten_fold_known_noise(Xdata, ydata):\n",
        "    #Xdata= Xdata[:, :500] #Uncomment for 1s long trace\n",
        "    skf = StratifiedShuffleSplit(n_splits=10,random_state=6) #random_state may vary\n",
        "    partial_accuracies=[]\n",
        "    for train_index, test_index in skf.split(Xdata, ydata):\n",
        "        X_train, X_test = Xdata[train_index], Xdata[test_index]\n",
        "        mean=X_train.mean()\n",
        "        std=X_train.std()\n",
        "        X_train_norm=(X_train-mean+1e-10)/std\n",
        "        X_test_norm=(X_test-mean+1e-10)/std\n",
        "        y_train, y_test = ydata[train_index], ydata[test_index]\n",
        "        model=LogisticRegression(max_iter=1000)\n",
        "        model.fit(X_train_norm,y_train)\n",
        "        prd=model.predict(X_test_norm)\n",
        "\n",
        "        partial_accuracies.append(classification_report(y_test, prd, output_dict=True)['accuracy'])\n",
        "\n",
        "    mean=round(np.mean(partial_accuracies)*100,2)\n",
        "    deviation=round(np.std(partial_accuracies)*100,2)\n",
        "    values[file[:-5]] = mean\n",
        "    return (str(mean)+\"%±\"+str(deviation)+\"%\")\n",
        "    #return mean"
      ]
    },
    {
      "cell_type": "markdown",
      "metadata": {
        "id": "nj6s4DbkMzRj"
      },
      "source": [
        "# Call on all files in current directory"
      ]
    },
    {
      "cell_type": "code",
      "execution_count": 15,
      "metadata": {
        "colab": {
          "base_uri": "https://localhost:8080/"
        },
        "id": "gp6HJ2AgXpPF",
        "outputId": "31ec556f-2d7f-4cc5-c364-5d64ac2a9fc1"
      },
      "outputs": [
        {
          "output_type": "stream",
          "name": "stdout",
          "text": [
            "(200, 5000)\n",
            "flipStress_p6_t0.5s 54.5%±7.23%\n",
            "(200, 5000)\n",
            "flipStress_p2_t0.5s 64.0%±9.43%\n",
            "(200, 5000)\n",
            "flipStress_p10_t0.5s 51.5%±6.34%\n",
            "(200, 5000)\n",
            "flipStress_p8_t0.5s 52.5%±8.44%\n",
            "(200, 5000)\n",
            "flipStress_p1_t0.5s 78.5%±8.38%\n",
            "(200, 5000)\n",
            "flipStress_p4_t0.5s 64.0%±11.58%\n",
            "(200, 5000)\n",
            "flipStress_p12_t0.5s 43.5%±6.73%\n"
          ]
        }
      ],
      "source": [
        "for file in os.listdir(cwd):\n",
        "    if os.path.isfile(os.path.join(cwd, file)):\n",
        "        # Call the classify function on the file\n",
        "        f = open(file)\n",
        "        data = json.load(f)\n",
        "        X=np.array(data['X'],dtype=np.float32)\n",
        "        print(X.shape)\n",
        "        y=np.array(data['y'])\n",
        "        p_lr= classify_ten_fold_known_noise(X,y) #returns mean of 10 fold CV and Standard Deviation\n",
        "        print (file[:-5] + \" \" + str(p_lr))"
      ]
    },
    {
      "cell_type": "markdown",
      "metadata": {
        "id": "hyQM31Reizn3"
      },
      "source": [
        "#Training without noise, Testing on noisy dataset."
      ]
    },
    {
      "cell_type": "code",
      "execution_count": 16,
      "metadata": {
        "id": "_bjNXZfmizK0",
        "colab": {
          "base_uri": "https://localhost:8080/"
        },
        "outputId": "5d30b49f-a799-4952-f295-7f3060932a80"
      },
      "outputs": [
        {
          "output_type": "stream",
          "name": "stdout",
          "text": [
            "flipStress_p6_t0.5s 50.0%\n",
            "flipStress_p2_t0.5s 50.0%\n",
            "flipStress_p10_t0.5s 50.0%\n",
            "flipStress_p8_t0.5s 50.0%\n",
            "NoNoise_10s 100.0%\n",
            "flipStress_p1_t0.5s 50.0%\n",
            "flipStress_p4_t0.5s 50.0%\n",
            "flipStress_p12_t0.5s 50.0%\n"
          ]
        }
      ],
      "source": [
        "#Train without noise or another file\n",
        "filename=\"NoNoise_10s.json\"\n",
        "f = open(filename)\n",
        "data = json.load(f)\n",
        "X_train=np.array(data['X'],dtype=np.float32)\n",
        "y_train=np.array(data['y'])\n",
        "mean=X_train.mean()\n",
        "std=X_train.std()\n",
        "X_train_norm=(X_train-mean+1e-10)/std\n",
        "model=LogisticRegression(max_iter=1000)\n",
        "model.fit(X_train_norm,y_train)\n",
        "prd = model.predict(X_train_norm)\n",
        "\n",
        "# Function to Test the stressor data\n",
        "def classify(filename):\n",
        "  f = open(filename)\n",
        "  data = json.load(f)\n",
        "  X_test = np.array(data['X'], dtype=np.float32)\n",
        "  #X_test= X_test[:, :500] #KEEP WHEN CONVERTING 10s data to 1s data\n",
        "  y_test = np.array(data['y'])\n",
        "  X_test_norm = (X_test - mean + 1e-10) / std\n",
        "  prd = model.predict(X_test_norm)\n",
        "  p_lr=classification_report(y_test, prd, output_dict=True)['accuracy']\n",
        "  filename = filename[:-5]\n",
        "  print (filename + \" \" + str(round(p_lr*100,2)) + \"%\")\n",
        "\n",
        "# Iterate over all files in the current directory\n",
        "for file in os.listdir(cwd):\n",
        "    # Check if the file is a regular file (not a directory)\n",
        "    if os.path.isfile(os.path.join(cwd, file)):\n",
        "        # Call the classify function on the file\n",
        "        classify(file)"
      ]
    }
  ],
  "metadata": {
    "colab": {
      "provenance": []
    },
    "kernelspec": {
      "display_name": "Python 3",
      "name": "python3"
    },
    "language_info": {
      "name": "python"
    }
  },
  "nbformat": 4,
  "nbformat_minor": 0
}