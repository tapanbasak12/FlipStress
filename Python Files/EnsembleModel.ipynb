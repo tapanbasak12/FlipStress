{
  "cells": [
    {
      "cell_type": "markdown",
      "metadata": {
        "id": "tGmzrwYd5w_z"
      },
      "source": [
        "#Run for all imports"
      ]
    },
    {
      "cell_type": "code",
      "execution_count": 1,
      "metadata": {
        "id": "PP27VK0I50yj"
      },
      "outputs": [],
      "source": [
        "#All necessary imports in this cell\n",
        "import numpy as np\n",
        "import json\n",
        "from sklearn.linear_model import LogisticRegression\n",
        "from sklearn.metrics import classification_report\n",
        "from sklearn.model_selection import StratifiedShuffleSplit\n",
        "from sklearn.metrics import accuracy_score\n",
        "import os\n",
        "\n",
        "cwd = os.getcwd()"
      ]
    },
    {
      "cell_type": "markdown",
      "source": [
        "#Ensemble Model (Scenario 3b,6b)"
      ],
      "metadata": {
        "id": "DqwXctSB48nw"
      }
    },
    {
      "cell_type": "code",
      "execution_count": 2,
      "metadata": {
        "colab": {
          "base_uri": "https://localhost:8080/"
        },
        "id": "Prp8bqNacGWG",
        "outputId": "07a91e68-3933-4802-d3a3-3a3659d9737e"
      },
      "outputs": [
        {
          "output_type": "stream",
          "name": "stdout",
          "text": [
            "Model for writeBuffer4_10s.json: LogisticRegression(max_iter=1000)\n",
            "Model for stream4_10s.json: LogisticRegression(max_iter=1000)\n",
            "Model for memcpy4_10s.json: LogisticRegression(max_iter=1000)\n",
            "Model for vm4_10s.json: LogisticRegression(max_iter=1000)\n",
            "Model for readLinkedList4_10s.json: LogisticRegression(max_iter=1000)\n",
            "Model for readBuffer4_10s.json: LogisticRegression(max_iter=1000)\n",
            "Model for writeLinkedList4_10s.json: LogisticRegression(max_iter=1000)\n"
          ]
        }
      ],
      "source": [
        "#TRAIN 7 DIFFERENT MODELS, SAVE TEST_SETS AND MODELS INTO DICTIONARIES\n",
        "\n",
        "files = [file for file in os.listdir('.') if os.path.isfile(file)]\n",
        "\n",
        "# Dictionary to store models\n",
        "models = {}\n",
        "# Dictionary to store test sets and labels\n",
        "test_sets = {}\n",
        "\n",
        "# Loop through each file\n",
        "for file in files:\n",
        "    if file.endswith('.json'):\n",
        "        with open(file, 'r') as f:\n",
        "            data = json.load(f)\n",
        "            X = np.array(data['X'], dtype=np.float32)\n",
        "            y = np.array(data['y'])\n",
        "            #X= X[:, :500]                                            #Uncomment\n",
        "            mean = X.mean()\n",
        "            std = X.std()\n",
        "\n",
        "            X_norm = (X - mean + 1e-10) / std\n",
        "\n",
        "            # Initialize StratifiedShuffleSplit\n",
        "            skf = StratifiedShuffleSplit(n_splits=1, random_state=8)\n",
        "\n",
        "            # Generate splits\n",
        "            for train_index, test_index in skf.split(X_norm, y):\n",
        "                X_train, X_test = X_norm[train_index], X_norm[test_index]\n",
        "                y_train, y_test = y[train_index], y[test_index]\n",
        "\n",
        "            # Store the model in the dictionary\n",
        "            models[file] = LogisticRegression(max_iter=1000).fit(X_train, y_train)\n",
        "\n",
        "            # Store the test set and labels in the dictionary\n",
        "            test_sets[file] = {'X_test': X_test, 'y_test': y_test}\n",
        "\n",
        "# Print all the models\n",
        "for file, model in models.items():\n",
        "    print(f\"Model for {file}: {model}\")\n",
        "\n",
        "# Print the shape of each test set and its labels\n",
        "\n",
        "for file, data in test_sets.items():\n",
        "    X_test = data['X_test']\n",
        "    y_test = data['y_test']\n",
        "    #print(f\"Test set shape for {file}: {X_test.shape}\")\n",
        "    #print(f\"Labels shape for {file}: {y_test.shape}\")\n"
      ]
    },
    {
      "cell_type": "code",
      "execution_count": 3,
      "metadata": {
        "colab": {
          "base_uri": "https://localhost:8080/"
        },
        "id": "fR3LhuWvD94o",
        "outputId": "0bdb79db-3046-46a8-dcb0-d6ca4892fb06"
      },
      "outputs": [
        {
          "output_type": "stream",
          "name": "stdout",
          "text": [
            "Combined test set shape: (140, 5000)\n",
            "Combined labels shape: (140,)\n"
          ]
        }
      ],
      "source": [
        "# Combine all test sets into a single large test set\n",
        "combined_X_test = np.concatenate([data['X_test'] for data in test_sets.values()])\n",
        "combined_y_test = np.concatenate([data['y_test'] for data in test_sets.values()])\n",
        "#combined_X_test= combined_X_test[:, :500]                                          #Uncomment\n",
        "# Print the shape of the combined test set\n",
        "print(f\"Combined test set shape: {combined_X_test.shape}\")\n",
        "print(f\"Combined labels shape: {combined_y_test.shape}\")"
      ]
    },
    {
      "cell_type": "code",
      "execution_count": 4,
      "metadata": {
        "colab": {
          "base_uri": "https://localhost:8080/"
        },
        "id": "sYmmU2lCwMjd",
        "outputId": "d5e02cfd-aea5-467b-cc32-1f980b80e495"
      },
      "outputs": [
        {
          "output_type": "stream",
          "name": "stdout",
          "text": [
            "Final Predictions based on majority voting:\n",
            "[1 0 1 1 0 1 1 1 1 1 1 1 0 0 0 1 1 1 0 1 0 0 0 0 1 0 0 0 0 1 1 1 1 1 0 0 0\n",
            " 0 1 0 0 0 1 0 0 1 1 0 0 0 0 1 0 0 0 1 0 1 0 0 1 1 1 0 0 1 1 1 1 1 1 1 0 1\n",
            " 0 1 1 1 1 0 0 0 1 1 1 1 1 1 0 1 1 1 0 0 1 1 1 1 0 1 0 0 1 0 0 1 1 1 0 1 0\n",
            " 1 0 0 0 1 1 0 0 1 0 0 1 1 0 1 1 1 1 1 1 1 1 0 0 1 1 1 1 0]\n",
            "Combined Ground Truth:\n",
            "[0 0 1 0 0 1 1 1 0 1 1 1 0 0 0 1 1 1 0 0 0 0 1 0 0 1 1 1 0 1 1 1 0 0 0 1 1\n",
            " 1 0 0 0 0 1 0 0 1 1 1 0 1 1 1 0 0 0 1 1 1 0 0 0 0 1 0 0 1 1 1 0 1 1 1 0 0\n",
            " 0 1 1 1 0 0 0 0 1 0 0 1 1 1 0 1 1 1 0 0 0 1 1 1 0 0 0 0 1 0 0 1 1 1 0 1 1\n",
            " 1 0 0 0 1 1 1 0 0 0 0 1 0 0 1 1 1 0 1 1 1 0 0 0 1 1 1 0 0]\n",
            "Accuracy (Majority Voting): 0.75\n"
          ]
        }
      ],
      "source": [
        "y_final_pred_majority = []\n",
        "\n",
        "for X_data_point in combined_X_test:\n",
        "\n",
        "    X_data_point_reshaped = X_data_point.reshape(1, -1)\n",
        "\n",
        "    target_count = 0\n",
        "    non_target_count = 0\n",
        "\n",
        "    # Get the prediction probability for each model\n",
        "    for model in models.values():\n",
        "        # Predict using the current model\n",
        "        pred = model.predict(X_data_point_reshaped)\n",
        "\n",
        "        # Increment counters based on prediction\n",
        "        if pred == 1:\n",
        "            target_count += 1\n",
        "        else:\n",
        "            non_target_count += 1\n",
        "\n",
        "    # Append the final prediction to y_final_pred_majority based on the majority vote\n",
        "    if target_count > non_target_count:\n",
        "        y_final_pred_majority.append(1)\n",
        "    elif target_count < non_target_count:\n",
        "        y_final_pred_majority.append(0)\n",
        "    else:\n",
        "        y_final_pred_majority.append(0)  # On a tie, we choose non-target (not possible for 7 models)\n",
        "\n",
        "# Convert the list to a numpy array\n",
        "y_final_pred_array_majority = np.array(y_final_pred_majority)\n",
        "\n",
        "\n",
        "\n",
        "# Print the final predictions based on majority voting\n",
        "print(\"Final Predictions based on majority voting:\")\n",
        "print(y_final_pred_array_majority)\n",
        "\n",
        "# Print the combined ground truth labels\n",
        "print(\"Combined Ground Truth:\")\n",
        "print(combined_y_test)\n",
        "\n",
        "# Calculate and print the classification accuracy\n",
        "accuracy_majority = accuracy_score(combined_y_test, y_final_pred_array_majority)\n",
        "print(\"Accuracy (Majority Voting):\", accuracy_majority)\n"
      ]
    },
    {
      "cell_type": "markdown",
      "source": [
        "#Ensemble Model, Testing on Flipping Stressor Data (Scenario 8b)\n",
        "##Upload the Flipping Stressor data at this point"
      ],
      "metadata": {
        "id": "JzT4yNO1AMZ1"
      }
    },
    {
      "cell_type": "code",
      "execution_count": 5,
      "metadata": {
        "id": "0CAndAAJN0rs",
        "colab": {
          "base_uri": "https://localhost:8080/"
        },
        "outputId": "5804290b-b554-4c97-f019-e7057a24a88a"
      },
      "outputs": [
        {
          "output_type": "stream",
          "name": "stdout",
          "text": [
            "Flip test set shape: (200, 5000)\n",
            "Flip labels shape: (200,)\n"
          ]
        }
      ],
      "source": [
        "f = open(\"flipStress_p4_t0.5s.json\")\n",
        "data = json.load(f)\n",
        "Flip_X_test =np.array(data['X'],dtype=np.float32)\n",
        "Flip_y_test=np.array(data['y'])\n",
        "\n",
        "print(f\"Flip test set shape: {Flip_X_test.shape}\")\n",
        "print(f\"Flip labels shape: {Flip_y_test.shape}\")"
      ]
    },
    {
      "cell_type": "code",
      "source": [
        "y_final_pred_majority = []\n",
        "\n",
        "for X_data_point in Flip_X_test:\n",
        "\n",
        "    X_data_point_reshaped = X_data_point.reshape(1, -1)\n",
        "\n",
        "    target_count = 0\n",
        "    non_target_count = 0\n",
        "\n",
        "    # Get the prediction probability for each model\n",
        "    for model in models.values():\n",
        "        # Predict using the current model\n",
        "        pred = model.predict(X_data_point_reshaped)\n",
        "\n",
        "        # Increment counters based on prediction\n",
        "        if pred == 1:\n",
        "            target_count += 1\n",
        "        else:\n",
        "            non_target_count += 1\n",
        "\n",
        "    # Append the final prediction to y_final_pred_majority based on the majority vote\n",
        "    if target_count > non_target_count:\n",
        "        y_final_pred_majority.append(1)\n",
        "    elif target_count < non_target_count:\n",
        "        y_final_pred_majority.append(0)\n",
        "    else:\n",
        "        y_final_pred_majority.append(0)  # On a tie, we choose non-target (not possible for 7 models)\n",
        "\n",
        "# Convert the list to a numpy array\n",
        "y_final_pred_array_majority = np.array(y_final_pred_majority)\n",
        "\n",
        "\n",
        "\n",
        "# Print the final predictions based on majority voting\n",
        "print(\"Final Predictions based on majority voting:\")\n",
        "print(y_final_pred_array_majority)\n",
        "\n",
        "# Print the combined ground truth labels\n",
        "print(\"Flip Ground Truth:\")\n",
        "print(Flip_y_test)\n",
        "\n",
        "\n",
        "\n",
        "# Calculate and print the classification accuracy\n",
        "accuracy_majority = accuracy_score(Flip_y_test, y_final_pred_array_majority)\n",
        "print(\"Accuracy (Majority Voting):\", accuracy_majority)\n"
      ],
      "metadata": {
        "colab": {
          "base_uri": "https://localhost:8080/"
        },
        "id": "YhxnILJg6vdL",
        "outputId": "751c7b62-7c93-4cb4-bbbf-5ccf3408efd1"
      },
      "execution_count": 6,
      "outputs": [
        {
          "output_type": "stream",
          "name": "stdout",
          "text": [
            "Final Predictions based on majority voting:\n",
            "[1 1 1 1 1 1 1 1 1 1 1 1 1 1 1 1 1 1 1 1 1 1 1 1 1 1 1 1 1 1 1 1 1 1 1 1 1\n",
            " 1 1 1 1 1 1 1 1 1 1 1 1 1 1 1 1 1 1 1 1 1 1 1 1 1 1 1 1 1 1 1 1 1 1 1 1 1\n",
            " 1 1 1 1 1 1 1 1 1 1 1 1 1 1 1 1 1 1 1 1 1 1 1 1 1 1 1 1 1 1 1 1 1 1 1 1 1\n",
            " 1 1 1 1 1 1 1 1 1 1 1 1 1 1 1 1 1 1 1 1 1 1 1 1 1 1 1 1 1 1 1 1 1 1 1 1 1\n",
            " 1 1 1 1 1 1 1 1 1 1 1 1 1 1 1 1 1 1 1 1 1 1 1 1 1 1 1 1 1 1 1 1 1 1 1 1 1\n",
            " 1 1 1 1 1 1 1 1 1 1 1 1 1 1 1]\n",
            "Flip Ground Truth:\n",
            "[1 1 1 1 1 1 1 1 1 1 1 1 1 1 1 1 1 1 1 1 1 1 1 1 1 1 1 1 1 1 1 1 1 1 1 1 1\n",
            " 1 1 1 1 1 1 1 1 1 1 1 1 1 1 1 1 1 1 1 1 1 1 1 1 1 1 1 1 1 1 1 1 1 1 1 1 1\n",
            " 1 1 1 1 1 1 1 1 1 1 1 1 1 1 1 1 1 1 1 1 1 1 1 1 1 1 0 0 0 0 0 0 0 0 0 0 0\n",
            " 0 0 0 0 0 0 0 0 0 0 0 0 0 0 0 0 0 0 0 0 0 0 0 0 0 0 0 0 0 0 0 0 0 0 0 0 0\n",
            " 0 0 0 0 0 0 0 0 0 0 0 0 0 0 0 0 0 0 0 0 0 0 0 0 0 0 0 0 0 0 0 0 0 0 0 0 0\n",
            " 0 0 0 0 0 0 0 0 0 0 0 0 0 0 0]\n",
            "Accuracy (Majority Voting): 0.5\n"
          ]
        }
      ]
    }
  ],
  "metadata": {
    "colab": {
      "collapsed_sections": [
        "tGmzrwYd5w_z",
        "We_Ftsg49JgU",
        "8jULobYJ3ZwF",
        "ati4yrE7ts5D",
        "IqMEAIqWtjGO",
        "-P1FDe_s4yjz",
        "MQFtyOB3ANRw"
      ],
      "provenance": []
    },
    "kernelspec": {
      "display_name": "Python 3",
      "name": "python3"
    },
    "language_info": {
      "name": "python"
    }
  },
  "nbformat": 4,
  "nbformat_minor": 0
}